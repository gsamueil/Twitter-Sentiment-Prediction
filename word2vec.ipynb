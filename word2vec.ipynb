{
 "cells": [
  {
   "cell_type": "code",
   "execution_count": 1,
   "metadata": {
    "collapsed": false
   },
   "outputs": [],
   "source": [
    "# load libraries\n",
    "import pandas as pd\n",
    "import numpy as np\n",
    "from gensim.models import word2vec\n",
    "import logging\n",
    "import nltk\n",
    "from collections import Counter\n",
    "import itertools\n",
    "from nltk.corpus import stopwords"
   ]
  },
  {
   "cell_type": "code",
   "execution_count": 2,
   "metadata": {
    "collapsed": false
   },
   "outputs": [
    {
     "name": "stdout",
     "output_type": "stream",
     "text": [
      "total 265M\r\n",
      "-rw-rw-r-- 1 sam sam  15M Feb 21 18:47 nba.json\r\n",
      "-rw-rw-r-- 1 sam sam 590K Feb 21 20:52 questions-words.txt\r\n",
      "-rw-rw-r-- 1 sam sam 100M Feb 21 18:22 stream.json\r\n",
      "-rw-rw-r-- 1 sam sam  96M Jun  9  2006 text8\r\n",
      "-rw-rw-r-- 1 sam sam  55M Feb 21 18:47 trump.json\r\n"
     ]
    }
   ],
   "source": [
    "ls -lh data/"
   ]
  },
  {
   "cell_type": "markdown",
   "metadata": {},
   "source": [
    "### load json data to dataframe"
   ]
  },
  {
   "cell_type": "code",
   "execution_count": 3,
   "metadata": {
    "collapsed": false
   },
   "outputs": [
    {
     "name": "stdout",
     "output_type": "stream",
     "text": [
      "Loading: stream.json ...\n",
      "Done loading json file to dataframe.\n"
     ]
    },
    {
     "data": {
      "text/html": [
       "<div>\n",
       "<table border=\"1\" class=\"dataframe\">\n",
       "  <thead>\n",
       "    <tr style=\"text-align: right;\">\n",
       "      <th></th>\n",
       "      <th>text</th>\n",
       "    </tr>\n",
       "  </thead>\n",
       "  <tbody>\n",
       "    <tr>\n",
       "      <th>0</th>\n",
       "      <td>RT @GerardAraud: No. Not punished. Normal end ...</td>\n",
       "    </tr>\n",
       "    <tr>\n",
       "      <th>1</th>\n",
       "      <td>@Nordstrom stock soars after @realDonaldTrump ...</td>\n",
       "    </tr>\n",
       "    <tr>\n",
       "      <th>2</th>\n",
       "      <td>RT @RitaCosby: #GoldStar Father &amp;amp; #Democra...</td>\n",
       "    </tr>\n",
       "    <tr>\n",
       "      <th>3</th>\n",
       "      <td>RT @Corporatocrazy: Topic at #DNCForum: \"How t...</td>\n",
       "    </tr>\n",
       "    <tr>\n",
       "      <th>4</th>\n",
       "      <td>RT @Queen_UK: Kim Jong Un on the phone. Very u...</td>\n",
       "    </tr>\n",
       "  </tbody>\n",
       "</table>\n",
       "</div>"
      ],
      "text/plain": [
       "                                                text\n",
       "0  RT @GerardAraud: No. Not punished. Normal end ...\n",
       "1  @Nordstrom stock soars after @realDonaldTrump ...\n",
       "2  RT @RitaCosby: #GoldStar Father &amp; #Democra...\n",
       "3  RT @Corporatocrazy: Topic at #DNCForum: \"How t...\n",
       "4  RT @Queen_UK: Kim Jong Un on the phone. Very u..."
      ]
     },
     "execution_count": 3,
     "metadata": {},
     "output_type": "execute_result"
    }
   ],
   "source": [
    "def load_data(file_name):\n",
    "    print \"Loading: \" + file_name + \" ...\"\n",
    "    data_path = './data/'\n",
    "    data_df = pd.read_json(data_path + file_name, lines=True)\n",
    "    # we only take the 'text' column\n",
    "    drop_columns = list(data_df.columns)\n",
    "    drop_columns.remove('text')\n",
    "    data_df.drop(drop_columns, axis = 1, inplace = True)\n",
    "    print \"Done loading json file to dataframe.\"\n",
    "    return data_df\n",
    "\n",
    "df = load_data('stream.json')\n",
    "df.dropna(axis=0, inplace=True) # drop na rows\n",
    "df.head()"
   ]
  },
  {
   "cell_type": "markdown",
   "metadata": {},
   "source": [
    "### pre-processing text"
   ]
  },
  {
   "cell_type": "code",
   "execution_count": 4,
   "metadata": {
    "collapsed": false
   },
   "outputs": [
    {
     "name": "stdout",
     "output_type": "stream",
     "text": [
      "sample stopping words:  [u'i', u'me', u'my', u'myself', u'we']\n"
     ]
    },
    {
     "data": {
      "text/html": [
       "<div>\n",
       "<table border=\"1\" class=\"dataframe\">\n",
       "  <thead>\n",
       "    <tr style=\"text-align: right;\">\n",
       "      <th></th>\n",
       "      <th>text</th>\n",
       "      <th>tokenized</th>\n",
       "    </tr>\n",
       "  </thead>\n",
       "  <tbody>\n",
       "    <tr>\n",
       "      <th>0</th>\n",
       "      <td>RT GerardAraud No Not punished Normal end of m...</td>\n",
       "      <td>[gerardaraud, punished, normal, end, term]</td>\n",
       "    </tr>\n",
       "    <tr>\n",
       "      <th>1</th>\n",
       "      <td>Nordstrom stock soars after realDonaldTrump ba...</td>\n",
       "      <td>[nordstrom, stock, soars, realdonaldtrump, bas...</td>\n",
       "    </tr>\n",
       "    <tr>\n",
       "      <th>2</th>\n",
       "      <td>RT RitaCosby GoldStar Father amp DemocraticCon...</td>\n",
       "      <td>[ritacosby, goldstar, father, democraticconven...</td>\n",
       "    </tr>\n",
       "    <tr>\n",
       "      <th>3</th>\n",
       "      <td>RT Corporatocrazy Topic at DNCForum How to cre...</td>\n",
       "      <td>[corporatocrazy, topic, dncforum, create, poor...</td>\n",
       "    </tr>\n",
       "    <tr>\n",
       "      <th>4</th>\n",
       "      <td>RT QueenUK Kim Jong Un on the phone Very upset...</td>\n",
       "      <td>[queenuk, kim, jong, un, phone, upset, hes, lo...</td>\n",
       "    </tr>\n",
       "  </tbody>\n",
       "</table>\n",
       "</div>"
      ],
      "text/plain": [
       "                                                text  \\\n",
       "0  RT GerardAraud No Not punished Normal end of m...   \n",
       "1  Nordstrom stock soars after realDonaldTrump ba...   \n",
       "2  RT RitaCosby GoldStar Father amp DemocraticCon...   \n",
       "3  RT Corporatocrazy Topic at DNCForum How to cre...   \n",
       "4  RT QueenUK Kim Jong Un on the phone Very upset...   \n",
       "\n",
       "                                           tokenized  \n",
       "0         [gerardaraud, punished, normal, end, term]  \n",
       "1  [nordstrom, stock, soars, realdonaldtrump, bas...  \n",
       "2  [ritacosby, goldstar, father, democraticconven...  \n",
       "3  [corporatocrazy, topic, dncforum, create, poor...  \n",
       "4  [queenuk, kim, jong, un, phone, upset, hes, lo...  "
      ]
     },
     "execution_count": 4,
     "metadata": {},
     "output_type": "execute_result"
    }
   ],
   "source": [
    "# remove https links\n",
    "df['text'].replace(regex=True,inplace=True,to_replace=r'(http|https):\\/\\/[^(\\s|\\b)]+',value=r'')\n",
    "# remove non-alphabet, this includes number and punctuation\n",
    "df['text'].replace(regex=True,inplace=True,to_replace=r'[^a-zA-Z\\s]',value=r'')\n",
    "# tokenize each tweets to form sentences.\n",
    "df['tokenized'] = df.apply(lambda row: nltk.word_tokenize(row['text'].lower()), axis=1)\n",
    "# remove stop words\n",
    "stop_words = stopwords.words('english')\n",
    "add_stop_words = ['amp', 'rt']\n",
    "stop_words += add_stop_words\n",
    "print \"sample stopping words: \", stop_words[:5]\n",
    "df['tokenized'] = df['tokenized'].apply(lambda x: [item for item in x if item not in stop_words])\n",
    "# we also need to remove \n",
    "df.head()"
   ]
  },
  {
   "cell_type": "code",
   "execution_count": 5,
   "metadata": {
    "collapsed": false
   },
   "outputs": [
    {
     "name": "stdout",
     "output_type": "stream",
     "text": [
      "[u'nordstrom', u'stock', u'soars', u'realdonaldtrump', u'bashed', u'twitter', u'towards', u'five', u'year', u'low', u'trump', u'nordstrom']\n"
     ]
    }
   ],
   "source": [
    "# prepare the sentences used to train\n",
    "sentences = list(df['tokenized'])\n",
    "print sentences[1]"
   ]
  },
  {
   "cell_type": "code",
   "execution_count": 6,
   "metadata": {
    "collapsed": false
   },
   "outputs": [
    {
     "data": {
      "text/plain": [
       "[(u'trump', 10241),\n",
       " (u'nba', 3905),\n",
       " (u'maga', 1467),\n",
       " (u'trumps', 1157),\n",
       " (u'resist', 1097),\n",
       " (u'president', 1055),\n",
       " (u'superbowl', 942),\n",
       " (u'weather', 873),\n",
       " (u'obama', 833),\n",
       " (u'immigranttrump', 730)]"
      ]
     },
     "execution_count": 6,
     "metadata": {},
     "output_type": "execute_result"
    }
   ],
   "source": [
    "# we can also look at the top 10 words\n",
    "merged = list(itertools.chain(*sentences))\n",
    "count_words = Counter(merged)\n",
    "count_words.most_common(n=10)"
   ]
  },
  {
   "cell_type": "code",
   "execution_count": 13,
   "metadata": {
    "collapsed": false
   },
   "outputs": [
    {
     "data": {
      "text/plain": [
       "7"
      ]
     },
     "execution_count": 13,
     "metadata": {},
     "output_type": "execute_result"
    }
   ],
   "source": [
    "count_words['queen']"
   ]
  },
  {
   "cell_type": "markdown",
   "metadata": {},
   "source": [
    "### Train word2vec"
   ]
  },
  {
   "cell_type": "code",
   "execution_count": 11,
   "metadata": {
    "collapsed": false
   },
   "outputs": [],
   "source": [
    "# train word2vec on the two sentences\n",
    "model = word2vec.Word2Vec(sentences, size=100, min_count=1, workers=4)"
   ]
  },
  {
   "cell_type": "code",
   "execution_count": 16,
   "metadata": {
    "collapsed": false
   },
   "outputs": [
    {
     "data": {
      "text/plain": [
       "[(u'son', 0.8967860341072083), (u'patrioticchoice', 0.8934655785560608)]"
      ]
     },
     "execution_count": 16,
     "metadata": {},
     "output_type": "execute_result"
    }
   ],
   "source": [
    "model.most_similar(positive=['man', 'father'], negative=['woman'], topn=2)"
   ]
  },
  {
   "cell_type": "code",
   "execution_count": 17,
   "metadata": {
    "collapsed": false
   },
   "outputs": [
    {
     "data": {
      "text/plain": [
       "array([-0.08358754, -0.04324149,  0.05222063,  0.13837481, -0.03145804,\n",
       "        0.01891813, -0.07813929, -0.15625842,  0.16886249, -0.01989665,\n",
       "       -0.09499143,  0.16616251, -0.29708767,  0.02101407,  0.10199653,\n",
       "        0.52113682, -0.05090722, -0.21264745, -0.21206836, -0.17166524,\n",
       "       -0.31643674, -0.04593456, -0.07890805, -0.05841589, -0.20822564,\n",
       "       -0.01848609, -0.06034333, -0.05641041,  0.40205297,  0.02601048,\n",
       "       -0.21787888, -0.19130263,  0.11345264,  0.06416356, -0.13391981,\n",
       "       -0.01941937,  0.11347763, -0.02410239,  0.23810287,  0.05785607,\n",
       "        0.27114791, -0.66712743,  0.00245408, -0.0384017 ,  0.09137112,\n",
       "       -0.13361648, -0.30836245,  0.01839138,  0.06830075,  0.36589754,\n",
       "       -0.19957888, -0.07206552,  0.18127915, -0.01365534, -0.04703069,\n",
       "       -0.21607758,  0.30693969, -0.11687962, -0.21609247,  0.05312306,\n",
       "       -0.13578808,  0.05873821,  0.22004935, -0.18714067, -0.0171869 ,\n",
       "       -0.10642038, -0.07699807,  0.26924366, -0.08447391, -0.19550315,\n",
       "       -0.01057764, -0.08256108,  0.27773106, -0.01158865, -0.05513336,\n",
       "       -0.09408943, -0.019765  , -0.09595527,  0.29056239, -0.19883841,\n",
       "       -0.06070403, -0.07665673, -0.23102799, -0.00708902,  0.04751016,\n",
       "       -0.29014659, -0.07325917,  0.0044859 ,  0.0456755 , -0.05741808,\n",
       "       -0.21961276, -0.0227233 , -0.26279473,  0.26619864,  0.4706001 ,\n",
       "        0.00068381, -0.16589375, -0.17627914,  0.28388619, -0.03968532], dtype=float32)"
      ]
     },
     "execution_count": 17,
     "metadata": {},
     "output_type": "execute_result"
    }
   ],
   "source": [
    "model['king']"
   ]
  },
  {
   "cell_type": "markdown",
   "metadata": {},
   "source": [
    "### Evaluate our model (this is very context dependent and no good way to objectively evaluate the result. Evaluation depends on your end application."
   ]
  },
  {
   "cell_type": "code",
   "execution_count": null,
   "metadata": {
    "collapsed": false
   },
   "outputs": [],
   "source": [
    "# model.accuracy('./data/questions-words.txt')"
   ]
  },
  {
   "cell_type": "code",
   "execution_count": null,
   "metadata": {
    "collapsed": true
   },
   "outputs": [],
   "source": []
  }
 ],
 "metadata": {
  "kernelspec": {
   "display_name": "Python 2",
   "language": "python",
   "name": "python2"
  },
  "language_info": {
   "codemirror_mode": {
    "name": "ipython",
    "version": 2
   },
   "file_extension": ".py",
   "mimetype": "text/x-python",
   "name": "python",
   "nbconvert_exporter": "python",
   "pygments_lexer": "ipython2",
   "version": "2.7.12"
  }
 },
 "nbformat": 4,
 "nbformat_minor": 2
}
