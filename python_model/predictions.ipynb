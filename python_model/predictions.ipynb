{
 "cells": [
  {
   "cell_type": "code",
   "execution_count": 1,
   "metadata": {
    "collapsed": false
   },
   "outputs": [
    {
     "name": "stderr",
     "output_type": "stream",
     "text": [
      "Using cuDNN version 5105 on context None\n",
      "Mapped name None to device cuda: GeForce GTX 1080 (0000:01:00.0)\n"
     ]
    }
   ],
   "source": [
    "from make_predictions import *\n",
    "\n",
    "FILE_PATH = '/home/sam/Hhd/twitter_sentiment/'\n",
    "# FILE_PATH = '/home/sam/Data/twitter_sentiment/'"
   ]
  },
  {
   "cell_type": "markdown",
   "metadata": {},
   "source": [
    "### AirCanada"
   ]
  },
  {
   "cell_type": "code",
   "execution_count": 2,
   "metadata": {
    "collapsed": false
   },
   "outputs": [
    {
     "name": "stdout",
     "output_type": "stream",
     "text": [
      "Loading csv: AirCanada.csv ...\n",
      "Note: pre-process changes the dataframe inplace.\n",
      "Loading existing model tweets600.model.bin ...\n",
      "Done building.\n",
      "max sentence length is:  17\n",
      "npy already exists, loading ...\n",
      "Done loading npy file.\n",
      "npy already exists.\n",
      ">>>Done preparing data.<<<\n",
      "\n",
      "prediction\n",
      "Done converting numeric to categorical, this changes df.\n",
      "===Positive===\n",
      "[('great', 8), ('thanks', 7), ('thank', 4), ('home', 3), ('today', 3), ('help', 2), ('go', 2), ('lounge', 2), ('jetxd', 2), ('lhr', 2), ('made', 2), ('yyz', 2), ('bag', 2), ('pbi', 2), ('bad', 2), ('working', 2), ('visit', 2), ('service', 2), ('flying', 2), ('time', 2)]\n",
      "===Neutral===\n",
      "[('flight', 15), ('support', 11), ('travel', 10), ('trip', 9), ('big', 9), ('vancouver', 8), ('change', 7), ('fly', 7), ('seat', 7), ('via', 6)]\n",
      "===Negative===\n",
      "[('flight', 35), ('time', 12), ('hours', 11), ('found', 10), ('worst', 9), ('didnt', 9), ('actually', 9), ('board', 9), ('check', 9), ('service', 8), ('hrs', 8), ('yvr', 7), ('never', 7), ('already', 7), ('plane', 7), ('take', 7), ('delayed', 7), ('customer', 6), ('validb', 6), ('let', 6)]\n"
     ]
    }
   ],
   "source": [
    "AC = GenerateData(FILE_PATH, 'AirCanada.csv', max_len_train=19)\n",
    "AC.prepare_data(wv_size=600)\n",
    "AC.get_result(n_preview=10, n_top = 20, name='AC_result',verbose=False)"
   ]
  },
  {
   "cell_type": "code",
   "execution_count": 4,
   "metadata": {
    "collapsed": false
   },
   "outputs": [
    {
     "name": "stdout",
     "output_type": "stream",
     "text": [
      "@AirCanada you are the worst. I paid 4 a flight with a guaranteed seat. but of course u over booked. Now I have a... https://t.co/mxxQfETfH6\n",
      "@AirCanada you are the worst. I paid 4 a flight with a guaranteed seat. but of course u over booked. Now I have a delay of 6 hours #boycott\n",
      "@AirCanada you are the worst. Each experience worse than the last.  Too bad we don't have a choice of air carriers.\n",
      "@AirCanada is absolute worst airline. Rude staff, complete incompetence, left bags off flight - then yelled at us for asking after them\n",
      "Just had the worst service experience ever on @AirCanada, I'll never flight again with you!\n",
      "RT @mcjackson001: @AirCanada Absolute worst airline I have ever flown!!! NEVER flying them again. Take a cue from @SouthwestAir in the cust…\n",
      "@AirCanada Absolute worst airline I have ever flown!!! NEVER flying them again. Take a cue from @SouthwestAir in the customer service dept.\n",
      "RT @gattaca: Hey @AirCanada just got off AC973, onboard service was the worst I’ve ever experienced, and I travel 200k per year. Pilot was…\n",
      "Good morning, @AirCanada. I finally terminated our two-hour call last night after being on hold for 45 minutes. Worst customer service ever.\n"
     ]
    }
   ],
   "source": [
    "AC.check(word='worst', sentiment=3, n_view=10)"
   ]
  },
  {
   "cell_type": "markdown",
   "metadata": {
    "collapsed": true
   },
   "source": [
    "### AmericanAir"
   ]
  },
  {
   "cell_type": "code",
   "execution_count": 5,
   "metadata": {
    "collapsed": false
   },
   "outputs": [
    {
     "name": "stdout",
     "output_type": "stream",
     "text": [
      "Loading csv: Americanair.csv ...\n",
      "Note: pre-process changes the dataframe inplace.\n",
      "Loading existing model tweets600.model.bin ...\n",
      "Done building.\n",
      "max sentence length is:  18\n",
      "npy already exists, loading ...\n",
      "Done loading npy file.\n",
      "npy already exists.\n",
      ">>>Done preparing data.<<<\n",
      "\n",
      "prediction\n",
      "Done converting numeric to categorical, this changes df.\n",
      "===Positive===\n",
      "[('great', 9), ('thanks', 8), ('xd', 7), ('flight', 4), ('thank', 3), ('big', 3), ('nigger', 3), ('much', 3), ('go', 2), ('mill', 2), ('lets', 2), ('friendly', 2), ('looking', 2), ('enough', 2), ('tour', 2), ('airline', 2), ('family', 2), ('ppl', 2), ('speak', 2), ('forward', 2)]\n",
      "===Neutral===\n",
      "[('please', 49), ('eduaubdedubu', 49), ('shortcut', 48), ('info', 48), ('visit', 48), ('watch', 11), ('flight', 9), ('airfare', 5), ('charter', 5), ('roundtrip', 5)]\n",
      "===Negative===\n",
      "[('flight', 20), ('hour', 10), ('flights', 10), ('plane', 9), ('im', 9), ('dont', 8), ('service', 8), ('people', 8), ('time', 8), ('hours', 7), ('worst', 7), ('get', 7), ('ive', 7), ('us', 7), ('fly', 6), ('sitting', 6), ('even', 6), ('tarmac', 6), ('customer', 6), ('travel', 6)]\n"
     ]
    }
   ],
   "source": [
    "AA = GenerateData(FILE_PATH, 'Americanair.csv', max_len_train=19)\n",
    "AA.prepare_data(wv_size=600)\n",
    "AA.get_result(n_preview=10, n_top = 20, name='AC_result',verbose=False)"
   ]
  },
  {
   "cell_type": "code",
   "execution_count": 6,
   "metadata": {
    "collapsed": false
   },
   "outputs": [
    {
     "name": "stdout",
     "output_type": "stream",
     "text": [
      "Siobhan: \"The worst, @AmericanAir. And no, everyone does not [travel w kids]. In fact, most people do not have a clue how hard it is.\"\n",
      "Hey @Delta you're literally the worst. You're worse than @AmericanAir and that's pretty awful.\n",
      "Natalie: \"@AmericanAir is the WORST when traveling with kids.\"\n",
      "@MissSaintXXX @AmericanAir Flying is the worst!!  Give me trains or car roadies all the time!!\n",
      "No one ever fly @AmericanAir the worst experience of my life I was supposed to be home over 24 hours ago\n",
      "@AmericanAir flight 1994 leaving PHL for ORD just had he longest and worst executed boarding process I've ever seen.. no hyperbole. #Flying\n",
      "@AmericanAir is the worst airline in the entire world.  It should not have the word America in it.  This is why I fly @Delta. Figure it out\n"
     ]
    }
   ],
   "source": [
    "AA.check(word='worst', sentiment=3, n_view=10)"
   ]
  },
  {
   "cell_type": "code",
   "execution_count": null,
   "metadata": {
    "collapsed": true
   },
   "outputs": [],
   "source": []
  }
 ],
 "metadata": {
  "kernelspec": {
   "display_name": "Python 2",
   "language": "python",
   "name": "python2"
  },
  "language_info": {
   "codemirror_mode": {
    "name": "ipython",
    "version": 2
   },
   "file_extension": ".py",
   "mimetype": "text/x-python",
   "name": "python",
   "nbconvert_exporter": "python",
   "pygments_lexer": "ipython2",
   "version": "2.7.12"
  }
 },
 "nbformat": 4,
 "nbformat_minor": 2
}
