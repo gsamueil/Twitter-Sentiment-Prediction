{
 "cells": [
  {
   "cell_type": "code",
   "execution_count": 1,
   "metadata": {
    "collapsed": false
   },
   "outputs": [
    {
     "name": "stderr",
     "output_type": "stream",
     "text": [
      "Using cuDNN version 5110 on context None\n",
      "Mapped name None to device cuda: GeForce GTX 965M (0000:01:00.0)\n"
     ]
    }
   ],
   "source": [
    "from make_predictions import *\n",
    "\n",
    "# FILE_PATH = '/home/sam/Hhd/twitter_sentiment/'\n",
    "FILE_PATH = '/home/sam/Data/twitter_sentiment/'"
   ]
  },
  {
   "cell_type": "markdown",
   "metadata": {},
   "source": [
    "### AirCanada"
   ]
  },
  {
   "cell_type": "code",
   "execution_count": 2,
   "metadata": {
    "collapsed": false
   },
   "outputs": [
    {
     "name": "stdout",
     "output_type": "stream",
     "text": [
      "Loading csv: AirCanada.csv ...\n",
      "Note: pre-process changes the dataframe inplace.\n",
      "Loading existing model tweets600.model.bin ...\n",
      "Done building.\n",
      "max sentence length is:  17\n",
      "npy already exists, loading ...\n",
      "Done loading npy file.\n",
      "npy already exists.\n",
      ">>>Done preparing data.<<<\n",
      "\n",
      "prediction\n",
      "Done converting numeric to categorical, this changes df.\n",
      "===Positive===\n",
      "[('great', 7), ('inflate', 6), ('thanks', 3), ('balloon', 3), ('happy', 3), ('foundation', 3), ('support', 3), ('crepes', 2), ('airline', 2), ('ready', 2), ('jetxd', 2), ('eduaubeedubueeduaubcedubduaeduaubdedubudu', 2), ('visit', 2), ('lounge', 2), ('freshly', 2), ('flight', 2), ('search', 2), ('yyz', 2), ('made', 2), ('greatest', 2)]\n",
      "===Neutral===\n",
      "[('away', 5), ('looking', 5), ('big', 4), ('nwtsecrets', 4), ('heres', 4), ('w', 4), ('one', 4), ('https', 4), ('spectacularnwt', 4), ('trips', 4)]\n",
      "===Negative===\n",
      "[('flight', 48), ('time', 15), ('travel', 14), ('found', 12), ('trip', 12), ('hours', 11), ('didnt', 11), ('service', 11), ('let', 10), ('check', 10), ('take', 10), ('bag', 10), ('worst', 9), ('one', 9), ('need', 9), ('seat', 9), ('board', 9), ('actually', 9), ('home', 9), ('never', 8)]\n"
     ]
    }
   ],
   "source": [
    "AC = GenerateData(FILE_PATH, 'AirCanada.csv', max_len_train=19)\n",
    "AC.prepare_data(wv_size=600)\n",
    "AC.get_result(n_preview=10, n_top = 20, name='AC_result',verbose=False)"
   ]
  },
  {
   "cell_type": "code",
   "execution_count": 3,
   "metadata": {
    "collapsed": false
   },
   "outputs": [
    {
     "name": "stdout",
     "output_type": "stream",
     "text": [
      "RT @ottcaplax: 2 out of 3 ain't bad. @AirCanada only managed to lose 1 bag on the way to Orlando. I mean a lacrosse player doesn't need sti…\n",
      "@AirCanada I have checked and it says 1st bag free for economy on tango, does this mean hand luggage or any other baggage allowance ?\n",
      "RT @ottcaplax: 2 out of 3 ain't bad. @AirCanada only managed to lose 1 bag on the way to Orlando. I mean a lacrosse player doesn't need sti…\n",
      "2 out of 3 ain't bad. @AirCanada only managed to lose 1 bag on the way to Orlando. I mean a lacrosse player doesn't need sticks does he?\n",
      "@AirCanada my case ?I have been hung up on, called terrible names, lied too and completely dismissed .My case is now deeper then missing bag\n",
      "@British_Airways @AirCanada thank you for working together to find my bag, I hope to have it home soon?\n",
      "Hey @British_Airways you lost my bag on a change from Heathrow to Toronto; you were supposed to transfer it to @AirCanada but didn't.\n",
      "Sweet. Arrived in Ireland on a trip of a lifetime and @AirCanada lost my bag. GOIN GREAT SO FAR.\n",
      "@AirCanada Does priority bag tag really mean anything?  #lastbag #halifaxairport #yhz\n",
      "@AirCanada compelled to keep calling bag customer service who never ONCE updated us in 3 days. Recommend all your customers take note\n"
     ]
    }
   ],
   "source": [
    "AC.check(word='bag', sentiment=3, n_view=10)"
   ]
  },
  {
   "cell_type": "code",
   "execution_count": null,
   "metadata": {
    "collapsed": true
   },
   "outputs": [],
   "source": []
  }
 ],
 "metadata": {
  "kernelspec": {
   "display_name": "Python 2",
   "language": "python",
   "name": "python2"
  },
  "language_info": {
   "codemirror_mode": {
    "name": "ipython",
    "version": 2
   },
   "file_extension": ".py",
   "mimetype": "text/x-python",
   "name": "python",
   "nbconvert_exporter": "python",
   "pygments_lexer": "ipython2",
   "version": "2.7.13"
  }
 },
 "nbformat": 4,
 "nbformat_minor": 2
}
